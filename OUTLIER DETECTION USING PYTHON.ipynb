{
 "cells": [
  {
   "cell_type": "code",
   "execution_count": 2,
   "id": "9f0e0257",
   "metadata": {},
   "outputs": [],
   "source": [
    "import numpy as np\n",
    "import pandas as pd\n",
    "from geopy.distance import geodesic\n",
    "import matplotlib.pyplot as plt\n",
    "import seaborn as sns\n",
    "from sklearn.ensemble import IsolationForest\n",
    "import glob\n",
    "from itertools import combinations\n",
    "\n",
    "pd.set_option('display.max_columns', None)\n",
    "\n",
    "\"\"\" Loading/conversion of Enugu Election csv file to pandas DataFrame\"\"\"\n",
    "df = pd.read_csv('C:\\\\Users\\\\DELL\\\\Videos\\\\ASIAN SERIES\\\\DOCTOR SLUMP\\\\Enugu_file.csv')\n",
    "\n",
    "\"\"\" Replacing multiple substrings (-, _) from Dataframe column name \"\"\"\n",
    "df.columns = df.columns.str.replace(r'[_-]', ' ', regex=True)\n",
    "\n",
    "\"\"\" Creating and applying a function to Convert the text values in each Column to Sentence case \"\"\"\n",
    "def capitalize_values(text):\n",
    "    if text:\n",
    "        return text.lower().capitalize()\n",
    "    else:\n",
    "        text\n",
    "for col in df.select_dtypes(include=[object]).columns:\n",
    "    df[col] = df[col].apply(lambda x: capitalize_values(x))\n",
    "\n",
    "\"\"\" Creating a new column called Addresses based of PU Name, Ward and State Columns \"\"\"\n",
    "df['Addresses'] = df['PU Name'].str.cat(df['Ward'], sep=', ').str.cat(df['State'], sep=', ')\n",
    "\n",
    "\"\"\" Exporting the DataFrame with the Address column to a excel file format named Enugu_geocode2.xlsx \"\"\"\n",
    "with pd.ExcelWriter('C:\\\\Users\\\\DELL\\\\Videos\\\\ASIAN SERIES\\\\DOCTOR SLUMP\\\\Enugu_geocode2.xlsx') as writer:\n",
    "    df.to_excel(writer, sheet_name='Sheet1', index=False)\n",
    "    \n",
    "\"\"\" Importing multiple Excel file containing Geocoded Addresses using glob library and creating a new Dataframe \"\"\" \n",
    "file_path = 'C:\\\\Users\\\\DELL\\\\OneDrive\\\\Documents\\\\GEOCODED FILE\\\\*.xlsx'\n",
    "excel_files = glob.glob(file_path)\n",
    "dataframes = []\n",
    "for file in excel_files:\n",
    "    df1 = pd.read_excel(file)\n",
    "    dataframes.append(df1)\n",
    "    \n",
    "geocoded_df = pd.concat(dataframes, ignore_index=True)"
   ]
  },
  {
   "cell_type": "code",
   "execution_count": 3,
   "id": "8770b9b7",
   "metadata": {},
   "outputs": [],
   "source": [
    "df5 = geocoded_df['Address'].duplicated().sum()"
   ]
  },
  {
   "cell_type": "code",
   "execution_count": 4,
   "id": "eff4c8d7",
   "metadata": {},
   "outputs": [],
   "source": [
    "\"\"\" Delecting observed duplicate Address rows in the Geocoded Dataframe \"\"\"\n",
    "geocoded_df = geocoded_df.drop_duplicates('Address').reset_index(drop=True)\n",
    "\n",
    "\"\"\" Delecting observed duplicate Addresses rows in the Original DataFrame\"\"\"\n",
    "df = df.drop_duplicates('Addresses').reset_index(drop=True)\n",
    "\n",
    "\"\"\" Creating Latitude and Longitude columns in the Original Dataframe based on that of the Geocoded Dataframe \"\"\"\n",
    "df['Latitude'] = geocoded_df['Latitude']\n",
    "df['Longitude'] = geocoded_df['Longitude']"
   ]
  },
  {
   "cell_type": "code",
   "execution_count": 5,
   "id": "c483e23f",
   "metadata": {},
   "outputs": [],
   "source": [
    "\"\"\"Create a distance matrix Ffunction to calculate the distance between all polling units based on their latitude and longitude\"\"\"\n",
    "def calculate_distance_matrix(df, batch_size=100):\n",
    "    num_units = df.shape[0]\n",
    "    distance_matrix = np.zeros((num_units, num_units))\n",
    "    \n",
    "    for i in range(0, num_units, batch_size):\n",
    "        batch_coords = df.loc[i:i+batch_size-1, ['Latitude', 'Longitude']].values\n",
    "        combos = combinations(batch_coords, 2)\n",
    "        distances = [geodesic(*combo).kilometers for combo in combos]\n",
    "        offset = i * (i + 1) // 2\n",
    "        distance_matrix.flat[offset:offset + len(distances)] = distances\n",
    "\n",
    "    return distance_matrix\n",
    "\n",
    "distance_matrix = calculate_distance_matrix(df)"
   ]
  },
  {
   "cell_type": "code",
   "execution_count": 6,
   "id": "ca11e595",
   "metadata": {},
   "outputs": [],
   "source": [
    "threshold = 1  # Representing Distance/Radius in KM\n",
    "\n",
    "\"\"\" Creating a Function to find the Neigbouring polling units for each polling unit\"\"\"\n",
    "def find_neighbors(distance_matrix, threshold):\n",
    "    neighbors = {}\n",
    "    for i in range(distance_matrix.shape[0]):\n",
    "        neighbor_indices = np.where(distance_matrix[i] <= threshold)[0]\n",
    "        neighbors[i] = neighbor_indices[neighbor_indices != i].tolist()\n",
    "    return neighbors\n",
    "\n",
    "neighbors = find_neighbors(distance_matrix, threshold)"
   ]
  },
  {
   "cell_type": "code",
   "execution_count": 7,
   "id": "f2eb96d0",
   "metadata": {},
   "outputs": [],
   "source": [
    "party_votes = ['APC', 'LP', 'PDP', 'NNPP']  # creating a list of the political parties\n",
    "\n",
    "def calculate_vote_differences(df, neighbors, party_votes):\n",
    "    vote_differences = {party: np.zeros(df.shape[0]) for party in party_votes}\n",
    "    for i, neighbor_list in enumerate(neighbors.values()):\n",
    "        if neighbor_list:                                    # Check if neighbor_list is not empty\n",
    "            for party in party_votes:\n",
    "                vote_differences[party][i] = np.abs(df.loc[i, party] - df.loc[neighbor_list, party].mean())\n",
    "    return vote_differences\n",
    "\n",
    "# Calculate vote differences\n",
    "vote_differences = calculate_vote_differences(df, neighbors, party_votes)\n",
    "\n",
    "for party, differences in vote_differences.items():\n",
    "    df[f'{party} Outlier Score'] = differences\n"
   ]
  },
  {
   "cell_type": "code",
   "execution_count": 8,
   "id": "a874923b",
   "metadata": {},
   "outputs": [
    {
     "name": "stdout",
     "output_type": "stream",
     "text": [
      "{'APC': 13.250754489276527, 'LP': 79.57293743308017, 'PDP': 10.853343856726802, 'NNPP': 7.3452648715029945}\n"
     ]
    }
   ],
   "source": [
    "\"\"\" Creating Neighbouring unit column \"\"\"\n",
    "df['Neighboring Units'] = df.index.map(lambda x: ', '.join(df.loc[neighbors[x], 'PU Name']))\n",
    "\n",
    "\"\"\" Calculating the standard deviation of vote difference (outlier score) for each political party\"\"\"\n",
    "std_devs = {party: np.std(differences) for party, differences in vote_differences.items()}\n",
    "\n",
    "\"\"\" Defining the threshold for outlier classification for each political party\"\"\"\n",
    "thresholds = {party: std_dev * 1.5 for party, std_dev in std_devs.items()}\n",
    "print(thresholds)\n",
    "\n",
    "\"\"\" Filter the DataFrame based on the threshold values 1 (outlier) and 0(Non outlier) and creating parties outliers columns\"\"\"\n",
    "df['APC Outlier'] = np.where(df['APC Outlier Score'] > thresholds['APC'], 1, 0) \n",
    "df['LP Outlier'] = np.where(df['LP Outlier Score'] > thresholds['LP'], 1, 0)\n",
    "df['PDP Outlier'] = np.where(df['PDP Outlier Score'] > thresholds['PDP'], 1, 0)\n",
    "df['NNPP Outlier'] = np.where(df['NNPP Outlier Score'] > thresholds['NNPP'], 1, 0)\n",
    "\n",
    "df.to_csv('C:\\\\Users\\\\DELL\\\\OneDrive\\\\Documents\\\\TASK 1\\\\Task_1_complete_table.csv', index=False, header=True, sep=';', na_rep='NULL')"
   ]
  },
  {
   "cell_type": "code",
   "execution_count": 9,
   "id": "71cfbb6b",
   "metadata": {},
   "outputs": [],
   "source": [
    "outliers_df = df[(df['APC Outlier'] == 1) | (df['LP Outlier'] == 1) | (df['PDP Outlier'] == 1) \n",
    "                  | (df['NNPP Outlier'] == 1)][['PU Name', 'Neighboring Units', 'Latitude', 'Longitude',\n",
    "                  'APC Outlier Score', 'LP Outlier Score', 'PDP Outlier Score', 'NNPP Outlier Score', 'APC Outlier',\n",
    "                  'LP Outlier', 'PDP Outlier', 'NNPP Outlier']].reset_index(drop=True)"
   ]
  },
  {
   "cell_type": "code",
   "execution_count": 10,
   "id": "84311f0e",
   "metadata": {},
   "outputs": [],
   "source": [
    "outliers_df['PU Name'] = outliers_df['PU Name'].str.upper()"
   ]
  },
  {
   "cell_type": "code",
   "execution_count": 11,
   "id": "043e3fff",
   "metadata": {},
   "outputs": [],
   "source": [
    "APC_outliers_df = outliers_df[outliers_df['APC Outlier'] == 1][['PU Name', 'Neighboring Units', 'Latitude', \n",
    "                  'Longitude', 'APC Outlier Score', 'APC Outlier']].sort_values('APC Outlier Score', \n",
    "                   ascending=False).reset_index(drop=True)"
   ]
  },
  {
   "cell_type": "code",
   "execution_count": 12,
   "id": "127405a0",
   "metadata": {},
   "outputs": [
    {
     "data": {
      "text/html": [
       "<div>\n",
       "<style scoped>\n",
       "    .dataframe tbody tr th:only-of-type {\n",
       "        vertical-align: middle;\n",
       "    }\n",
       "\n",
       "    .dataframe tbody tr th {\n",
       "        vertical-align: top;\n",
       "    }\n",
       "\n",
       "    .dataframe thead th {\n",
       "        text-align: right;\n",
       "    }\n",
       "</style>\n",
       "<table border=\"1\" class=\"dataframe\">\n",
       "  <thead>\n",
       "    <tr style=\"text-align: right;\">\n",
       "      <th></th>\n",
       "      <th>PU Name</th>\n",
       "      <th>Neighboring Units</th>\n",
       "      <th>Latitude</th>\n",
       "      <th>Longitude</th>\n",
       "      <th>APC Outlier Score</th>\n",
       "      <th>APC Outlier</th>\n",
       "    </tr>\n",
       "  </thead>\n",
       "  <tbody>\n",
       "    <tr>\n",
       "      <th>0</th>\n",
       "      <td>C.P.S. OHODO</td>\n",
       "      <td>Comm. sch. oduma achara, Mmafu comm. school, O...</td>\n",
       "      <td>6.751958</td>\n",
       "      <td>7.411099</td>\n",
       "      <td>498.823350</td>\n",
       "      <td>1</td>\n",
       "    </tr>\n",
       "    <tr>\n",
       "      <th>1</th>\n",
       "      <td>UWANI OTOBO VILLAGE SQUARE</td>\n",
       "      <td>Comm. sch. oduma achara, Mmafu comm. school, O...</td>\n",
       "      <td>6.408823</td>\n",
       "      <td>7.500360</td>\n",
       "      <td>123.719357</td>\n",
       "      <td>1</td>\n",
       "    </tr>\n",
       "    <tr>\n",
       "      <th>2</th>\n",
       "      <td>OJIAGU TOWN HALL</td>\n",
       "      <td>Comm. sch. oduma achara, Mmafu comm. school, O...</td>\n",
       "      <td>6.304964</td>\n",
       "      <td>7.562641</td>\n",
       "      <td>67.703827</td>\n",
       "      <td>1</td>\n",
       "    </tr>\n",
       "  </tbody>\n",
       "</table>\n",
       "</div>"
      ],
      "text/plain": [
       "                      PU Name  \\\n",
       "0                C.P.S. OHODO   \n",
       "1  UWANI OTOBO VILLAGE SQUARE   \n",
       "2            OJIAGU TOWN HALL   \n",
       "\n",
       "                                   Neighboring Units  Latitude  Longitude  \\\n",
       "0  Comm. sch. oduma achara, Mmafu comm. school, O...  6.751958   7.411099   \n",
       "1  Comm. sch. oduma achara, Mmafu comm. school, O...  6.408823   7.500360   \n",
       "2  Comm. sch. oduma achara, Mmafu comm. school, O...  6.304964   7.562641   \n",
       "\n",
       "   APC Outlier Score  APC Outlier  \n",
       "0         498.823350            1  \n",
       "1         123.719357            1  \n",
       "2          67.703827            1  "
      ]
     },
     "execution_count": 12,
     "metadata": {},
     "output_type": "execute_result"
    }
   ],
   "source": [
    "APC_outliers_df.head(3)"
   ]
  },
  {
   "cell_type": "code",
   "execution_count": 13,
   "id": "2e22536f",
   "metadata": {},
   "outputs": [
    {
     "data": {
      "text/html": [
       "<div>\n",
       "<style scoped>\n",
       "    .dataframe tbody tr th:only-of-type {\n",
       "        vertical-align: middle;\n",
       "    }\n",
       "\n",
       "    .dataframe tbody tr th {\n",
       "        vertical-align: top;\n",
       "    }\n",
       "\n",
       "    .dataframe thead th {\n",
       "        text-align: right;\n",
       "    }\n",
       "</style>\n",
       "<table border=\"1\" class=\"dataframe\">\n",
       "  <thead>\n",
       "    <tr style=\"text-align: right;\">\n",
       "      <th></th>\n",
       "      <th>PU Name</th>\n",
       "      <th>Neighboring Units</th>\n",
       "      <th>Latitude</th>\n",
       "      <th>Longitude</th>\n",
       "      <th>LP Outlier Score</th>\n",
       "      <th>LP Outlier</th>\n",
       "    </tr>\n",
       "  </thead>\n",
       "  <tbody>\n",
       "    <tr>\n",
       "      <th>0</th>\n",
       "      <td>COMMUNITY PRIMARY SCHOOL OWERRE OBUKPA</td>\n",
       "      <td>Comm. sch. oduma achara, Mmafu comm. school, O...</td>\n",
       "      <td>6.883657</td>\n",
       "      <td>7.425528</td>\n",
       "      <td>490.875208</td>\n",
       "      <td>1</td>\n",
       "    </tr>\n",
       "    <tr>\n",
       "      <th>1</th>\n",
       "      <td>FEDERAL GOVERNMENT SCHOOL I</td>\n",
       "      <td>Comm. sch. oduma achara, Mmafu comm. school, O...</td>\n",
       "      <td>6.424580</td>\n",
       "      <td>7.523963</td>\n",
       "      <td>465.868275</td>\n",
       "      <td>1</td>\n",
       "    </tr>\n",
       "    <tr>\n",
       "      <th>2</th>\n",
       "      <td>AGBUGWU OWERRE ANI</td>\n",
       "      <td>Comm. sch. oduma achara, Mmafu comm. school, O...</td>\n",
       "      <td>6.851975</td>\n",
       "      <td>7.397945</td>\n",
       "      <td>444.862451</td>\n",
       "      <td>1</td>\n",
       "    </tr>\n",
       "  </tbody>\n",
       "</table>\n",
       "</div>"
      ],
      "text/plain": [
       "                                  PU Name  \\\n",
       "0  COMMUNITY PRIMARY SCHOOL OWERRE OBUKPA   \n",
       "1             FEDERAL GOVERNMENT SCHOOL I   \n",
       "2                      AGBUGWU OWERRE ANI   \n",
       "\n",
       "                                   Neighboring Units  Latitude  Longitude  \\\n",
       "0  Comm. sch. oduma achara, Mmafu comm. school, O...  6.883657   7.425528   \n",
       "1  Comm. sch. oduma achara, Mmafu comm. school, O...  6.424580   7.523963   \n",
       "2  Comm. sch. oduma achara, Mmafu comm. school, O...  6.851975   7.397945   \n",
       "\n",
       "   LP Outlier Score  LP Outlier  \n",
       "0        490.875208           1  \n",
       "1        465.868275           1  \n",
       "2        444.862451           1  "
      ]
     },
     "execution_count": 13,
     "metadata": {},
     "output_type": "execute_result"
    }
   ],
   "source": [
    "LP_outliers_df = outliers_df[outliers_df['LP Outlier'] == 1][['PU Name', 'Neighboring Units', 'Latitude', \n",
    "                  'Longitude', 'LP Outlier Score', 'LP Outlier']].sort_values('LP Outlier Score', \n",
    "                   ascending=False).reset_index(drop=True)\n",
    "LP_outliers_df.head(3)"
   ]
  },
  {
   "cell_type": "code",
   "execution_count": 14,
   "id": "511e3dce",
   "metadata": {},
   "outputs": [
    {
     "data": {
      "text/html": [
       "<div>\n",
       "<style scoped>\n",
       "    .dataframe tbody tr th:only-of-type {\n",
       "        vertical-align: middle;\n",
       "    }\n",
       "\n",
       "    .dataframe tbody tr th {\n",
       "        vertical-align: top;\n",
       "    }\n",
       "\n",
       "    .dataframe thead th {\n",
       "        text-align: right;\n",
       "    }\n",
       "</style>\n",
       "<table border=\"1\" class=\"dataframe\">\n",
       "  <thead>\n",
       "    <tr style=\"text-align: right;\">\n",
       "      <th></th>\n",
       "      <th>PU Name</th>\n",
       "      <th>Neighboring Units</th>\n",
       "      <th>Latitude</th>\n",
       "      <th>Longitude</th>\n",
       "      <th>PDP Outlier Score</th>\n",
       "      <th>PDP Outlier</th>\n",
       "    </tr>\n",
       "  </thead>\n",
       "  <tbody>\n",
       "    <tr>\n",
       "      <th>0</th>\n",
       "      <td>MBAGUZO VILLAGE SQUARE</td>\n",
       "      <td>Obuagu village square ezinato i, Obuagu villag...</td>\n",
       "      <td>6.507597</td>\n",
       "      <td>7.693188</td>\n",
       "      <td>122.922640</td>\n",
       "      <td>1</td>\n",
       "    </tr>\n",
       "    <tr>\n",
       "      <th>1</th>\n",
       "      <td>RAILWAY STATION</td>\n",
       "      <td>Comm. sch. oduma achara, Mmafu comm. school, O...</td>\n",
       "      <td>6.215122</td>\n",
       "      <td>7.578898</td>\n",
       "      <td>120.213810</td>\n",
       "      <td>1</td>\n",
       "    </tr>\n",
       "    <tr>\n",
       "      <th>2</th>\n",
       "      <td>CENTRAL SCHOOL OWO I</td>\n",
       "      <td>Comm. sch. oduma achara, Mmafu comm. school, O...</td>\n",
       "      <td>6.507597</td>\n",
       "      <td>7.693188</td>\n",
       "      <td>110.211037</td>\n",
       "      <td>1</td>\n",
       "    </tr>\n",
       "  </tbody>\n",
       "</table>\n",
       "</div>"
      ],
      "text/plain": [
       "                  PU Name                                  Neighboring Units  \\\n",
       "0  MBAGUZO VILLAGE SQUARE  Obuagu village square ezinato i, Obuagu villag...   \n",
       "1         RAILWAY STATION  Comm. sch. oduma achara, Mmafu comm. school, O...   \n",
       "2    CENTRAL SCHOOL OWO I  Comm. sch. oduma achara, Mmafu comm. school, O...   \n",
       "\n",
       "   Latitude  Longitude  PDP Outlier Score  PDP Outlier  \n",
       "0  6.507597   7.693188         122.922640            1  \n",
       "1  6.215122   7.578898         120.213810            1  \n",
       "2  6.507597   7.693188         110.211037            1  "
      ]
     },
     "execution_count": 14,
     "metadata": {},
     "output_type": "execute_result"
    }
   ],
   "source": [
    "PDP_outliers_df = outliers_df[outliers_df['PDP Outlier'] == 1][['PU Name', 'Neighboring Units', 'Latitude', \n",
    "                  'Longitude', 'PDP Outlier Score', 'PDP Outlier']].sort_values('PDP Outlier Score', \n",
    "                   ascending=False).reset_index(drop=True)\n",
    "PDP_outliers_df.head(3)"
   ]
  },
  {
   "cell_type": "code",
   "execution_count": 15,
   "id": "7344e0a5",
   "metadata": {},
   "outputs": [
    {
     "data": {
      "text/html": [
       "<div>\n",
       "<style scoped>\n",
       "    .dataframe tbody tr th:only-of-type {\n",
       "        vertical-align: middle;\n",
       "    }\n",
       "\n",
       "    .dataframe tbody tr th {\n",
       "        vertical-align: top;\n",
       "    }\n",
       "\n",
       "    .dataframe thead th {\n",
       "        text-align: right;\n",
       "    }\n",
       "</style>\n",
       "<table border=\"1\" class=\"dataframe\">\n",
       "  <thead>\n",
       "    <tr style=\"text-align: right;\">\n",
       "      <th></th>\n",
       "      <th>PU Name</th>\n",
       "      <th>Neighboring Units</th>\n",
       "      <th>Latitude</th>\n",
       "      <th>Longitude</th>\n",
       "      <th>NNPP Outlier Score</th>\n",
       "      <th>NNPP Outlier</th>\n",
       "    </tr>\n",
       "  </thead>\n",
       "  <tbody>\n",
       "    <tr>\n",
       "      <th>0</th>\n",
       "      <td>COMMUNITY PRIMARY SCHOOL ENUGU UMUABI</td>\n",
       "      <td>Comm. sch. oduma achara, Mmafu comm. school, O...</td>\n",
       "      <td>6.279631</td>\n",
       "      <td>7.380104</td>\n",
       "      <td>268.531614</td>\n",
       "      <td>1</td>\n",
       "    </tr>\n",
       "    <tr>\n",
       "      <th>1</th>\n",
       "      <td>C.P.S. AKPOGA I</td>\n",
       "      <td>Comm. sch. oduma achara, Mmafu comm. school, O...</td>\n",
       "      <td>6.510131</td>\n",
       "      <td>7.622266</td>\n",
       "      <td>103.485857</td>\n",
       "      <td>1</td>\n",
       "    </tr>\n",
       "    <tr>\n",
       "      <th>2</th>\n",
       "      <td>AMAKPAKA HALL III</td>\n",
       "      <td>Comm. sch. oduma achara, Mmafu comm. school, O...</td>\n",
       "      <td>6.622265</td>\n",
       "      <td>7.562641</td>\n",
       "      <td>42.468941</td>\n",
       "      <td>1</td>\n",
       "    </tr>\n",
       "  </tbody>\n",
       "</table>\n",
       "</div>"
      ],
      "text/plain": [
       "                                  PU Name  \\\n",
       "0  COMMUNITY PRIMARY SCHOOL ENUGU UMUABI    \n",
       "1                         C.P.S. AKPOGA I   \n",
       "2                       AMAKPAKA HALL III   \n",
       "\n",
       "                                   Neighboring Units  Latitude  Longitude  \\\n",
       "0  Comm. sch. oduma achara, Mmafu comm. school, O...  6.279631   7.380104   \n",
       "1  Comm. sch. oduma achara, Mmafu comm. school, O...  6.510131   7.622266   \n",
       "2  Comm. sch. oduma achara, Mmafu comm. school, O...  6.622265   7.562641   \n",
       "\n",
       "   NNPP Outlier Score  NNPP Outlier  \n",
       "0          268.531614             1  \n",
       "1          103.485857             1  \n",
       "2           42.468941             1  "
      ]
     },
     "execution_count": 15,
     "metadata": {},
     "output_type": "execute_result"
    }
   ],
   "source": [
    "NNPP_outliers_df = outliers_df[outliers_df['NNPP Outlier'] == 1][['PU Name', 'Neighboring Units', 'Latitude', \n",
    "                  'Longitude', 'NNPP Outlier Score', 'NNPP Outlier']].sort_values('NNPP Outlier Score', \n",
    "                   ascending=False).reset_index(drop=True)\n",
    "NNPP_outliers_df.head(3)"
   ]
  },
  {
   "cell_type": "code",
   "execution_count": 16,
   "id": "36f4dae9",
   "metadata": {},
   "outputs": [],
   "source": [
    "with pd.ExcelWriter('C:\\\\Users\\\\DELL\\\\OneDrive\\\\Documents\\\\TASK 1\\\\Party_outliers.xlsx') as writer:\n",
    "    APC_outliers_df.to_excel(writer, sheet_name='APC', index=False, header=True)\n",
    "    LP_outliers_df.to_excel(writer, sheet_name='LP', index=False, header=True)\n",
    "    PDP_outliers_df.to_excel(writer, sheet_name='PDP', index=False, header=True)\n",
    "    NNPP_outliers_df.to_excel(writer, sheet_name='NNPP', index=False, header=True)"
   ]
  },
  {
   "cell_type": "code",
   "execution_count": 17,
   "id": "ba14aa93",
   "metadata": {},
   "outputs": [
    {
     "name": "stderr",
     "output_type": "stream",
     "text": [
      "C:\\Users\\DELL\\AppData\\Local\\Temp\\ipykernel_5276\\1812852779.py:10: UserWarning: FixedFormatter should only be used together with FixedLocator\n",
      "  ax[0].set_yticklabels(top_NNPP_outliers['PU Name'], fontsize=20, fontname='Times New Roman')\n",
      "C:\\Users\\DELL\\AppData\\Local\\Temp\\ipykernel_5276\\1812852779.py:19: UserWarning: FixedFormatter should only be used together with FixedLocator\n",
      "  ax[1].set_yticklabels(top_APC_outliers['PU Name'], fontsize=20, fontname='Times New Roman')\n"
     ]
    },
    {
     "data": {
      "image/png": "[encoded data removed]",
      "text/plain": [
       "<Figure size 1800x1080 with 2 Axes>"
      ]
     },
     "metadata": {
      "needs_background": "light"
     },
     "output_type": "display_data"
    }
   ],
   "source": [
    "fig, ax = plt.subplots(2, 1, figsize=(25, 15))\n",
    "ax = ax.flatten()\n",
    "\n",
    "colour = ['Teal', 'Green', 'Blue']\n",
    "\n",
    "top_NNPP_outliers = NNPP_outliers_df.nlargest(3, 'NNPP Outlier Score')\n",
    "top_NNPP_outliers = top_NNPP_outliers.sort_values('NNPP Outlier Score', ascending=True)\n",
    "\n",
    "ax[0].barh(top_NNPP_outliers['PU Name'], top_NNPP_outliers['NNPP Outlier Score'], color=colour)\n",
    "ax[0].set_yticklabels(top_NNPP_outliers['PU Name'], fontsize=20, fontname='Times New Roman')\n",
    "ax[0].set_xlabel('Outlier Scores (NNPP)', fontsize=21, fontname='Times New Roman')\n",
    "ax[0].tick_params(axis='x', which='major', labelsize=20)\n",
    "\n",
    "\n",
    "top_APC_outliers = APC_outliers_df.nlargest(3, 'APC Outlier Score')\n",
    "top_APC_outliers = top_APC_outliers.sort_values('APC Outlier Score', ascending=True)\n",
    "\n",
    "ax[1].barh(top_APC_outliers['PU Name'], top_APC_outliers['APC Outlier Score'], color=colour)\n",
    "ax[1].set_yticklabels(top_APC_outliers['PU Name'], fontsize=20, fontname='Times New Roman')\n",
    "ax[1].set_xlabel('Outlier Score (APC)', fontsize=22, fontname='Times New Roman')\n",
    "ax[1].tick_params(axis='x', which='major', labelsize=20)\n",
    "\n",
    "plt.savefig('C:\\\\Users\\\\DELL\\\\OneDrive\\\\Documents\\\\TASK 1\\\\Top_outliers_NNPP_APC.png')\n",
    "\n",
    "\n",
    "plt.show()"
   ]
  },
  {
   "cell_type": "code",
   "execution_count": 31,
   "id": "a7e11f39",
   "metadata": {},
   "outputs": [
    {
     "name": "stderr",
     "output_type": "stream",
     "text": [
      "C:\\Users\\DELL\\AppData\\Local\\Temp\\ipykernel_5276\\2754200506.py:10: UserWarning: FixedFormatter should only be used together with FixedLocator\n",
      "  ax[0].set_yticklabels(top_LP_outliers['PU Name'], fontsize=18, fontname='Times New Roman')\n",
      "C:\\Users\\DELL\\AppData\\Local\\Temp\\ipykernel_5276\\2754200506.py:18: UserWarning: FixedFormatter should only be used together with FixedLocator\n",
      "  ax[1].set_yticklabels(top_PDP_outliers['PU Name'], fontsize=18, fontname='Times New Roman')\n"
     ]
    },
    {
     "data": {
      "image/png": "[encoded data removed]",
      "text/plain": [
       "<Figure size 1440x648 with 2 Axes>"
      ]
     },
     "metadata": {
      "needs_background": "light"
     },
     "output_type": "display_data"
    }
   ],
   "source": [
    "fig, ax = plt.subplots(2, 1, figsize=(20, 9))\n",
    "ax = ax.flatten()\n",
    "\n",
    "colour = ['Teal', 'Green', 'Blue']\n",
    "\n",
    "top_LP_outliers = LP_outliers_df.nlargest(3, 'LP Outlier Score')\n",
    "top_LP_outliers = top_LP_outliers.sort_values('LP Outlier Score', ascending=True)\n",
    "\n",
    "ax[0].barh(top_LP_outliers['PU Name'], top_LP_outliers['LP Outlier Score'], color=colour)\n",
    "ax[0].set_yticklabels(top_LP_outliers['PU Name'], fontsize=18, fontname='Times New Roman')\n",
    "ax[0].set_xlabel('LP Outlier Score', fontsize=15, fontname='Times New Roman')\n",
    "ax[0].tick_params(axis='x', which='major', labelsize=11)\n",
    "\n",
    "top_PDP_outliers = PDP_outliers_df.nlargest(3, 'PDP Outlier Score')\n",
    "top_PDP_outliers = top_PDP_outliers.sort_values('PDP Outlier Score', ascending=True)\n",
    "\n",
    "ax[1].barh(top_PDP_outliers['PU Name'], top_PDP_outliers['PDP Outlier Score'], color=colour)\n",
    "ax[1].set_yticklabels(top_PDP_outliers['PU Name'], fontsize=18, fontname='Times New Roman')\n",
    "ax[1].set_xlabel('PDP Outlier Score', fontsize=15, fontname='Times New Roman')\n",
    "ax[1].tick_params(axis='x', which='major', labelsize=11)\n",
    "\n",
    "plt.savefig('C:\\\\Users\\\\DELL\\\\OneDrive\\\\Documents\\\\TASK 1\\\\Top_outlier_PDP_LP.png')\n",
    "\n",
    "\n",
    "plt.show()"
   ]
  },
  {
   "cell_type": "code",
   "execution_count": 68,
   "id": "093e83b5",
   "metadata": {},
   "outputs": [
    {
     "data": {
      "image/png": "[encoded data removed]",
      "text/plain": [
       "<Figure size 1440x504 with 4 Axes>"
      ]
     },
     "metadata": {
      "needs_background": "light"
     },
     "output_type": "display_data"
    }
   ],
   "source": [
    "# Box plot showing distribution\n",
    "\n",
    "fig, ax = plt.subplots(1, 4, figsize=(20, 7))\n",
    "ax = ax.flatten()\n",
    "\n",
    "df1 = df[['APC', 'LP', 'PDP', 'NNPP']]\n",
    "\n",
    "df_boxplot = pd.melt(df1) # Convert df1 Columns to Row(variable) and Row to Columns(value)\n",
    "\n",
    "sns.boxplot(x='variable', y='value', data=df_boxplot[df_boxplot['variable'] == 'APC'], ax=ax[0])  \n",
    "sns.boxplot(x='variable', y='value', data=df_boxplot[df_boxplot['variable'] == 'LP'], ax=ax[1])  \n",
    "sns.boxplot(x='variable', y='value', data=df_boxplot[df_boxplot['variable'] == 'PDP'], ax=ax[2])  \n",
    "sns.boxplot(x='variable', y='value', data=df_boxplot[df_boxplot['variable'] == 'NNPP'], ax=ax[3])\n",
    "\n",
    "plt.savefig('C:\\\\Users\\\\DELL\\\\OneDrive\\\\Documents\\\\TASK 1\\\\distribution_plot.png')\n",
    "\n",
    "plt.show()"
   ]
  },
  {
   "cell_type": "code",
   "execution_count": null,
   "id": "9aca1c90",
   "metadata": {},
   "outputs": [],
   "source": []
  }
 ],
 "metadata": {
  "kernelspec": {
   "display_name": "Python 3 (ipykernel)",
   "language": "python",
   "name": "python3"
  },
  "language_info": {
   "codemirror_mode": {
    "name": "ipython",
    "version": 3
   },
   "file_extension": ".py",
   "mimetype": "text/x-python",
   "name": "python",
   "nbconvert_exporter": "python",
   "pygments_lexer": "ipython3",
   "version": "3.9.12"
  }
 },
 "nbformat": 4,
 "nbformat_minor": 5
}
